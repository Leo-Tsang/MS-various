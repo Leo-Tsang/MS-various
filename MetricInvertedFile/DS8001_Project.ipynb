{
 "cells": [
  {
   "cell_type": "code",
   "execution_count": 20,
   "metadata": {},
   "outputs": [],
   "source": [
    "import numpy as np\n",
    "from numpy import genfromtxt"
   ]
  },
  {
   "cell_type": "code",
   "execution_count": 21,
   "metadata": {},
   "outputs": [],
   "source": [
    "#my data\n",
    "my_data = genfromtxt('Q1_LEO_TSANG.csv', delimiter=',')"
   ]
  },
  {
   "cell_type": "code",
   "execution_count": 22,
   "metadata": {},
   "outputs": [],
   "source": [
    "reference = genfromtxt('reference_data2.csv', delimiter=',')"
   ]
  },
  {
   "cell_type": "code",
   "execution_count": 23,
   "metadata": {},
   "outputs": [
    {
     "data": {
      "text/plain": [
       "array([[1., 7., 3., ..., 3., 4., 1.],\n",
       "       [3., 8., 6., ..., 1., 5., 4.],\n",
       "       [1., 1., 4., ..., 9., 4., 5.],\n",
       "       ...,\n",
       "       [4., 9., 5., ..., 6., 5., 8.],\n",
       "       [5., 9., 6., ..., 7., 4., 5.],\n",
       "       [8., 5., 6., ..., 5., 0., 7.]])"
      ]
     },
     "execution_count": 23,
     "metadata": {},
     "output_type": "execute_result"
    }
   ],
   "source": [
    "reference"
   ]
  },
  {
   "cell_type": "code",
   "execution_count": 24,
   "metadata": {},
   "outputs": [
    {
     "data": {
      "text/plain": [
       "array([1., 7., 3., 2., 9., 0., 9., 5., 7., 5., 7., 2., 1., 9., 3., 2., 7.,\n",
       "       3., 4., 1.])"
      ]
     },
     "execution_count": 24,
     "metadata": {},
     "output_type": "execute_result"
    }
   ],
   "source": [
    "reference[0]"
   ]
  },
  {
   "cell_type": "code",
   "execution_count": 25,
   "metadata": {},
   "outputs": [],
   "source": [
    "test = np.array([[6., 0., 1., 2., 8., 5., 9., 0., 1., 6., 6., 2., 2., 0., 1., 8.,\n",
    "        7., 1., 2., 9.],\n",
    "       [8., 8., 8., 3., 8., 0., 9., 5., 4., 1., 8., 9., 9., 0., 9., 4.,\n",
    "        3., 9., 1., 1.],\n",
    "       [3., 4., 4., 5., 9., 5., 6., 3., 2., 2., 6., 9., 7., 7., 4., 0.,\n",
    "        3., 6., 9., 0.],\n",
    "       [2., 0., 4., 2., 7., 9., 8., 1., 3., 7., 3., 8., 7., 7., 1., 1.,\n",
    "        4., 5., 8., 6.],\n",
    "       [6., 5., 7., 8., 6., 0., 7., 7., 4., 3., 8., 5., 2., 7., 9., 6.,\n",
    "        9., 7., 9., 8.],\n",
    "       [2., 9., 3., 3., 2., 4., 7., 3., 7., 7., 4., 8., 1., 6., 9., 0.,\n",
    "        2., 9., 5., 6.],\n",
    "       [8., 4., 0., 5., 0., 5., 1., 8., 0., 4., 7., 3., 7., 1., 5., 7.,\n",
    "        3., 0., 9., 2.],\n",
    "       [9., 8., 3., 0., 2., 2., 6., 1., 4., 5., 1., 0., 1., 2., 2., 5.,\n",
    "        7., 3., 0., 7.],\n",
    "       [9., 4., 1., 9., 0., 8., 8., 2., 1., 1., 0., 3., 8., 7., 7., 2.,\n",
    "        5., 1., 0., 3.],\n",
    "       [5., 2., 2., 8., 9., 1., 3., 9., 5., 9., 0., 5., 6., 7., 9., 3.,\n",
    "        0., 8., 1., 6.],[1., 7., 3., 2., 9., 0., 9., 5., 7., 5., 7., 2., 1., 9., 3., 2., 7.,\n",
    "       3., 4., 1.]])"
   ]
  },
  {
   "cell_type": "code",
   "execution_count": 26,
   "metadata": {},
   "outputs": [
    {
     "data": {
      "text/plain": [
       "array([[6., 0., 1., 2., 8., 5., 9., 0., 1., 6., 6., 2., 2., 0., 1., 8.,\n",
       "        7., 1., 2., 9.],\n",
       "       [8., 8., 8., 3., 8., 0., 9., 5., 4., 1., 8., 9., 9., 0., 9., 4.,\n",
       "        3., 9., 1., 1.],\n",
       "       [3., 4., 4., 5., 9., 5., 6., 3., 2., 2., 6., 9., 7., 7., 4., 0.,\n",
       "        3., 6., 9., 0.],\n",
       "       [2., 0., 4., 2., 7., 9., 8., 1., 3., 7., 3., 8., 7., 7., 1., 1.,\n",
       "        4., 5., 8., 6.],\n",
       "       [6., 5., 7., 8., 6., 0., 7., 7., 4., 3., 8., 5., 2., 7., 9., 6.,\n",
       "        9., 7., 9., 8.],\n",
       "       [2., 9., 3., 3., 2., 4., 7., 3., 7., 7., 4., 8., 1., 6., 9., 0.,\n",
       "        2., 9., 5., 6.],\n",
       "       [8., 4., 0., 5., 0., 5., 1., 8., 0., 4., 7., 3., 7., 1., 5., 7.,\n",
       "        3., 0., 9., 2.],\n",
       "       [9., 8., 3., 0., 2., 2., 6., 1., 4., 5., 1., 0., 1., 2., 2., 5.,\n",
       "        7., 3., 0., 7.],\n",
       "       [9., 4., 1., 9., 0., 8., 8., 2., 1., 1., 0., 3., 8., 7., 7., 2.,\n",
       "        5., 1., 0., 3.],\n",
       "       [5., 2., 2., 8., 9., 1., 3., 9., 5., 9., 0., 5., 6., 7., 9., 3.,\n",
       "        0., 8., 1., 6.],\n",
       "       [1., 7., 3., 2., 9., 0., 9., 5., 7., 5., 7., 2., 1., 9., 3., 2.,\n",
       "        7., 3., 4., 1.]])"
      ]
     },
     "execution_count": 26,
     "metadata": {},
     "output_type": "execute_result"
    }
   ],
   "source": [
    "test"
   ]
  },
  {
   "cell_type": "code",
   "execution_count": 31,
   "metadata": {},
   "outputs": [
    {
     "data": {
      "text/plain": [
       "(1000000, 20)"
      ]
     },
     "execution_count": 31,
     "metadata": {},
     "output_type": "execute_result"
    }
   ],
   "source": [
    "my_data.shape"
   ]
  },
  {
   "cell_type": "code",
   "execution_count": 35,
   "metadata": {},
   "outputs": [
    {
     "ename": "ValueError",
     "evalue": "[1.0, 7.0, 3.0, 2.0, 9.0, 0.0, 9.0, 5.0, 7.0, 5.0, 7.0, 2.0, 1.0, 9.0, 3.0, 2.0, 7.0, 3.0, 4.0, 1.0] is not in list",
     "output_type": "error",
     "traceback": [
      "\u001b[1;31m---------------------------------------------------------------------------\u001b[0m",
      "\u001b[1;31mValueError\u001b[0m                                Traceback (most recent call last)",
      "\u001b[1;32m<ipython-input-35-9e1784df28f1>\u001b[0m in \u001b[0;36m<module>\u001b[1;34m\u001b[0m\n\u001b[0;32m      1\u001b[0m my_data.tolist().index([1., 7., 3., 2., 9., 0., 9., 5., 7., 5., 7., 2., 1., 9., 3., 2.,\n\u001b[1;32m----> 2\u001b[1;33m         7., 3., 4., 1.])\n\u001b[0m",
      "\u001b[1;31mValueError\u001b[0m: [1.0, 7.0, 3.0, 2.0, 9.0, 0.0, 9.0, 5.0, 7.0, 5.0, 7.0, 2.0, 1.0, 9.0, 3.0, 2.0, 7.0, 3.0, 4.0, 1.0] is not in list"
     ]
    }
   ],
   "source": [
    "my_data.tolist().index([1., 7., 3., 2., 9., 0., 9., 5., 7., 5., 7., 2., 1., 9., 3., 2.,\n",
    "        7., 3., 4., 1.])"
   ]
  },
  {
   "cell_type": "code",
   "execution_count": 39,
   "metadata": {},
   "outputs": [
    {
     "ename": "ValueError",
     "evalue": "[1.0, 7.0, 3.0, 2.0, 9.0, 0.0, 9.0, 5.0, 7.0, 5.0, 7.0, 2.0, 1.0, 9.0, 3.0, 2.0, 7.0, 3.0, 4.0, 1.0] is not in list",
     "output_type": "error",
     "traceback": [
      "\u001b[1;31m---------------------------------------------------------------------------\u001b[0m",
      "\u001b[1;31mValueError\u001b[0m                                Traceback (most recent call last)",
      "\u001b[1;32m<ipython-input-39-5574d0ec9f40>\u001b[0m in \u001b[0;36m<module>\u001b[1;34m\u001b[0m\n\u001b[1;32m----> 1\u001b[1;33m \u001b[0mmy_data\u001b[0m\u001b[1;33m.\u001b[0m\u001b[0mtolist\u001b[0m\u001b[1;33m(\u001b[0m\u001b[1;33m)\u001b[0m\u001b[1;33m.\u001b[0m\u001b[0mindex\u001b[0m\u001b[1;33m(\u001b[0m\u001b[0mlist\u001b[0m\u001b[1;33m(\u001b[0m\u001b[0mreference\u001b[0m\u001b[1;33m[\u001b[0m\u001b[1;36m0\u001b[0m\u001b[1;33m]\u001b[0m\u001b[1;33m)\u001b[0m\u001b[1;33m)\u001b[0m\u001b[1;33m\u001b[0m\u001b[1;33m\u001b[0m\u001b[0m\n\u001b[0m",
      "\u001b[1;31mValueError\u001b[0m: [1.0, 7.0, 3.0, 2.0, 9.0, 0.0, 9.0, 5.0, 7.0, 5.0, 7.0, 2.0, 1.0, 9.0, 3.0, 2.0, 7.0, 3.0, 4.0, 1.0] is not in list"
     ]
    }
   ],
   "source": [
    "my_data.tolist().index(list(reference[0]))"
   ]
  },
  {
   "cell_type": "code",
   "execution_count": 41,
   "metadata": {},
   "outputs": [
    {
     "data": {
      "text/plain": [
       "array([6., 0., 1., 2., 8., 5., 9., 0., 1., 6., 6., 2., 2., 0., 1., 8., 7.,\n",
       "       1., 2., 9.])"
      ]
     },
     "execution_count": 41,
     "metadata": {},
     "output_type": "execute_result"
    }
   ],
   "source": [
    "my_data[0]"
   ]
  },
  {
   "cell_type": "code",
   "execution_count": 44,
   "metadata": {},
   "outputs": [],
   "source": [
    "my_data2 = np.append(my_data,reference, axis = 0)"
   ]
  },
  {
   "cell_type": "code",
   "execution_count": 45,
   "metadata": {},
   "outputs": [
    {
     "data": {
      "text/plain": [
       "1001000"
      ]
     },
     "execution_count": 45,
     "metadata": {},
     "output_type": "execute_result"
    }
   ],
   "source": [
    "len(my_data2)"
   ]
  },
  {
   "cell_type": "code",
   "execution_count": 47,
   "metadata": {},
   "outputs": [
    {
     "data": {
      "text/plain": [
       "array([1., 7., 3., 2., 9., 0., 9., 5., 7., 5., 7., 2., 1., 9., 3., 2., 7.,\n",
       "       3., 4., 1.])"
      ]
     },
     "execution_count": 47,
     "metadata": {},
     "output_type": "execute_result"
    }
   ],
   "source": [
    "my_data2[1000000]"
   ]
  },
  {
   "cell_type": "code",
   "execution_count": 48,
   "metadata": {},
   "outputs": [
    {
     "data": {
      "text/plain": [
       "1000000"
      ]
     },
     "execution_count": 48,
     "metadata": {},
     "output_type": "execute_result"
    }
   ],
   "source": [
    "my_data2.tolist().index(list(reference[0]))"
   ]
  },
  {
   "cell_type": "code",
   "execution_count": null,
   "metadata": {},
   "outputs": [],
   "source": []
  }
 ],
 "metadata": {
  "kernelspec": {
   "display_name": "Python 3",
   "language": "python",
   "name": "python3"
  },
  "language_info": {
   "codemirror_mode": {
    "name": "ipython",
    "version": 3
   },
   "file_extension": ".py",
   "mimetype": "text/x-python",
   "name": "python",
   "nbconvert_exporter": "python",
   "pygments_lexer": "ipython3",
   "version": "3.7.3"
  }
 },
 "nbformat": 4,
 "nbformat_minor": 2
}
